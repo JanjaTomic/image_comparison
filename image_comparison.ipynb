{
  "cells": [
    {
      "cell_type": "markdown",
      "metadata": {
        "id": "view-in-github",
        "colab_type": "text"
      },
      "source": [
        "<a href=\"https://colab.research.google.com/github/JanjaTomic/image_comparison/blob/main/image_comparison.ipynb\" target=\"_parent\"><img src=\"https://colab.research.google.com/assets/colab-badge.svg\" alt=\"Open In Colab\"/></a>"
      ]
    },
    {
      "cell_type": "code",
      "source": [
        "import torch\n",
        "import torchvision.transforms as transforms\n",
        "from torchvision import models\n",
        "from PIL import Image\n",
        "import numpy as np\n",
        "import cv2\n",
        "import torch.nn.functional as F\n",
        "import sys\n",
        "\n",
        "def preprocess_image(image_path, use_edges=False):\n",
        "    img = Image.open(image_path).convert('RGB')\n",
        "\n",
        "    if use_edges:\n",
        "        img_np = np.array(img)\n",
        "        edges = cv2.Canny(img_np, threshold1=100, threshold2=200)\n",
        "        edges = cv2.cvtColor(edges, cv2.COLOR_GRAY2RGB)\n",
        "        img = Image.fromarray(edges)\n",
        "\n",
        "    img_tensor = preprocess(img).unsqueeze(0)\n",
        "    return img_tensor\n",
        "\n",
        "def extract_features(image_path):\n",
        "    rgb_features = preprocess_image(image_path)\n",
        "    edge_features = preprocess_image(image_path, use_edges=True)\n",
        "\n",
        "    with torch.no_grad():\n",
        "        features_rgb = model(rgb_features)\n",
        "        features_edge = model(edge_features)\n",
        "\n",
        "    combined_features = 0.5 * features_rgb + 0.5 * features_edge\n",
        "    return combined_features.squeeze()\n",
        "\n",
        "def compare_images(image1_path, image2_path):\n",
        "    features1 = extract_features(image1_path)\n",
        "    features2 = extract_features(image2_path)\n",
        "\n",
        "    distance = torch.dist(features1, features2, p=2)\n",
        "    return distance.item()\n",
        "\n",
        "if _name_ == \"_main_\":\n",
        "    preprocess = transforms.Compose([\n",
        "        transforms.Resize((224, 224)),\n",
        "        transforms.ToTensor(),\n",
        "        transforms.Normalize(mean=[0.485, 0.456, 0.406], std=[0.229, 0.224, 0.225]),\n",
        "    ])\n",
        "\n",
        "    model = models.resnet50(pretrained=True)\n",
        "    model.eval()\n",
        "\n",
        "    baseline_image = sys.argv[1]\n",
        "    test_image = sys.argv[2]\n",
        "\n",
        "    distance_score = compare_images(baseline_image, test_image)\n",
        "    result = \"pass\" if distance_score < 8.00 else \"fail\"\n",
        "    print(result)"
      ],
      "metadata": {
        "id": "WYxBwmvrnswv"
      },
      "execution_count": null,
      "outputs": []
    }
  ],
  "metadata": {
    "colab": {
      "name": "Welcome To Colab",
      "toc_visible": true,
      "provenance": [],
      "include_colab_link": true
    },
    "kernelspec": {
      "display_name": "Python 3",
      "name": "python3"
    }
  },
  "nbformat": 4,
  "nbformat_minor": 0
}